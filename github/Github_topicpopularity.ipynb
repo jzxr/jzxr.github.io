{
 "cells": [
  {
   "cell_type": "code",
   "execution_count": 1,
   "metadata": {},
   "outputs": [],
   "source": [
    "# Import libraries\n",
    "import numpy as np\n",
    "import pandas as pd\n",
    "from matplotlib import pyplot as plt\n",
    "import schedule\n",
    "import time\n",
    "import unittest\n",
    "import os\n",
    "import glob\n",
    "\n",
    "path = r'C:\\Users\\yc\\Downloads\\Uni Application\\SIT\\TRI 2\\1009\\Project\\github' # location whr data is saved\n"
   ]
  },
  {
   "cell_type": "code",
   "execution_count": 2,
   "metadata": {},
   "outputs": [],
   "source": [
    "class testCases(unittest.TestCase):\n",
    "    #Test if crawl time is float value & if subtraction method is correct\n",
    "    def testCase1 (self):\n",
    "        test = endTime - startTime\n",
    "        \n",
    "        if test == float and test == result:\n",
    "            #assertTrue() to check true of test value\n",
    "            self.assertTrue(test)\n",
    "            \n",
    "    #Test if crawl time is lesser than 1 minutes\n",
    "    def testCase2(self): \n",
    "        value1 = result\n",
    "        value2 = 60\n",
    "        \n",
    "        #Error message in case if test case got failed \n",
    "        msg = \"Crawl time is more than 1 minutes\"\n",
    "        \n",
    "        #assert function() to check if values1 is less than value2 \n",
    "        self.assertLess(value1, value2, msg) \n",
    "        \n",
    "     #Test if csv file is empty\n",
    "    def testcase3(self):\n",
    "        df1 = pd.read_csv('github-c_programming.csv') #Read csv\n",
    "        df1.empty  #check if empty\n",
    "        if df1.empty == True:\n",
    "            print(\"The c programming csv file is empty\")\n",
    "        else:\n",
    "            print(\"The c programming csv file has data\")\n",
    "            \n",
    "        df2 = pd.read_csv('github-csharp.csv')  #Read csv\n",
    "        df2.empty  #check if empty\n",
    "        if df2.empty == True:\n",
    "            print(\"The csharp csv file is empty\")  \n",
    "        else:\n",
    "            print(\"The csharp csv file has data\")\n",
    "            \n",
    "        df3 = pd.read_csv('github-html.csv')  #Read csv\n",
    "        df3.empty  #check if empty\n",
    "        if df3.empty == True:\n",
    "            print(\"The html csv file is empty\")\n",
    "        else:\n",
    "            print(\"The html csv file has data\")\n",
    "            \n",
    "        df4 = pd.read_csv('github-java.csv')   #Read csv\n",
    "        df4.empty  #check if empty\n",
    "        if df4.empty == True:\n",
    "            print(\"The java csv file is empty\")\n",
    "        else:\n",
    "            print(\"The java csv file has data\")\n",
    "            \n",
    "        df5 = pd.read_csv('github-javascript.csv')  #Read csv\n",
    "        df5.empty  #check if empty\n",
    "        if df5.empty == True:\n",
    "            print(\"The javascript csv file is empty\")\n",
    "        else:\n",
    "            print(\"The javascript csv file has data\")\n",
    "            \n",
    "        df6 = pd.read_csv('github-Python.csv')  #Read csv\n",
    "        df6.empty  #check if empty\n",
    "        if df6.empty == True:\n",
    "            print(\"The Python csv file is empty\")\n",
    "        else:\n",
    "            print(\"The Python csv file has data\")\n",
    "              \n",
    "        df7 = pd.read_csv('github-rprogramming.csv')  #Read csv\n",
    "        df7.empty  #check if empty\n",
    "        if df7.empty == True:\n",
    "            print(\"The rprogramming csv file is empty\")\n",
    "        else:\n",
    "            print(\"The rprogramming csv file has data\")\n",
    "            \n",
    "    #Test if graph is created and exported as png\n",
    "    def testcase4(self):\n",
    "        picture = os.path.isfile('github_topicpopularity.png')\n",
    "        if picture == True:\n",
    "            print(\"The graph is created\")\n",
    "        else:\n",
    "            print(\"The graph is not created\")\n",
    "            \n",
    "    #Test the number of csv found in folder \n",
    "    def testCase5(self):\n",
    "        expectedfiles=7\n",
    "        # dir is your directory path \n",
    "        list2=os.listdir(path)\n",
    "        \n",
    "        number_files2 = len(glob.glob('./*.csv'))\n",
    "        self.assertEqual(number_files2,expectedfiles,'Number of csv found is not equal to 7 for stackoverflow')"
   ]
  },
  {
   "cell_type": "code",
   "execution_count": 3,
   "metadata": {},
   "outputs": [],
   "source": [
    "def data():\n",
    "    #sum of vote in github-c_programming.csv\n",
    "    data1 = pd.read_csv('github-c_programming.csv')\n",
    "    ctotal = data1['Stars'].sum()\n",
    "\n",
    "    #sum of vote in github-csharp.csv\n",
    "    data2 = pd.read_csv('github-csharp.csv')\n",
    "    csharptotal = data2['Stars'].sum()\n",
    "\n",
    "\n",
    "    #sum of vote in github-html.csv\n",
    "    data3 = pd.read_csv('github-html.csv')\n",
    "    htmltotal = data3['Stars'].sum()\n",
    "\n",
    "    #sum of vote in github-java.csv\n",
    "    data4 = pd.read_csv('github-java.csv')\n",
    "    javatotal = data4['Stars'].sum()\n",
    "\n",
    "    #sum of vote in github-javascript.csv\n",
    "    data5 = pd.read_csv('github-javascript.csv')\n",
    "    jstotal = data5['Stars'].sum()\n",
    "    \n",
    "\n",
    "    #sum of vote in github-Python.csv\n",
    "    data6 = pd.read_csv('github-Python.csv')\n",
    "    pythontotal = data6['Stars'].sum()\n",
    "    \n",
    "\n",
    "    #sum of vote in rprogramming.csv\n",
    "    data7 = pd.read_csv('github-rprogramming.csv')\n",
    "    rtotal = data7['Stars'].sum()\n",
    "    graph(ctotal,csharptotal,htmltotal,javatotal,jstotal,pythontotal,rtotal)\n"
   ]
  },
  {
   "cell_type": "code",
   "execution_count": 4,
   "metadata": {},
   "outputs": [],
   "source": [
    "#Plot pie chart with object oriented interface\n",
    "def graph(ctotal,csharptotal,htmltotal,javatotal,jstotal,pythontotal,rtotal):\n",
    "    my_data=[ctotal,csharptotal,htmltotal,javatotal,jstotal,pythontotal,rtotal]\n",
    "    my_labels='cprogramming','c#','html','java','javascript','python','rprogramming'\n",
    "    explode = (0, 0, 0, 0.1, 0, 0, 0)  # only \"explode\" java\n",
    "    \n",
    "    fig1, ax1 = plt.subplots()\n",
    "    ax1.set_title('Topic popularity on Github')\n",
    "    ax1.pie(my_data, explode=explode, labels=my_labels, autopct='%1.1f%%',shadow=True)\n",
    "    ax1.axis('equal')  # Equal aspect ratio ensures that pie is drawn as a circle.\n",
    "    \n",
    "    plt.show()\n",
    "    fig1.savefig('github_topicpopularity.png')"
   ]
  },
  {
   "cell_type": "code",
   "execution_count": 5,
   "metadata": {},
   "outputs": [
    {
     "data": {
      "image/png": "[encoded data removed]",
      "text/plain": [
       "<Figure size 432x288 with 1 Axes>"
      ]
     },
     "metadata": {},
     "output_type": "display_data"
    },
    {
     "name": "stderr",
     "output_type": "stream",
     "text": [
      "....."
     ]
    },
    {
     "name": "stdout",
     "output_type": "stream",
     "text": [
      "Total time taken to plot graph is 0.3016 seconds!\n",
      "The c programming csv file has data\n",
      "The csharp csv file has data\n",
      "The html csv file has data\n",
      "The java csv file has data\n",
      "The javascript csv file has data\n",
      "The Python csv file has data\n",
      "The rprogramming csv file has data\n",
      "The graph is created\n"
     ]
    },
    {
     "name": "stderr",
     "output_type": "stream",
     "text": [
      "\n",
      "----------------------------------------------------------------------\n",
      "Ran 5 tests in 0.030s\n",
      "\n",
      "OK\n"
     ]
    },
    {
     "ename": "KeyboardInterrupt",
     "evalue": "",
     "output_type": "error",
     "traceback": [
      "\u001b[1;31m---------------------------------------------------------------------------\u001b[0m",
      "\u001b[1;31mKeyboardInterrupt\u001b[0m                         Traceback (most recent call last)",
      "\u001b[1;32m<ipython-input-5-43dee9b1368a>\u001b[0m in \u001b[0;36m<module>\u001b[1;34m()\u001b[0m\n\u001b[0;32m     11\u001b[0m     \u001b[1;32mwhile\u001b[0m \u001b[1;32mTrue\u001b[0m\u001b[1;33m:\u001b[0m\u001b[1;33m\u001b[0m\u001b[0m\n\u001b[0;32m     12\u001b[0m         \u001b[0mschedule\u001b[0m\u001b[1;33m.\u001b[0m\u001b[0mrun_pending\u001b[0m\u001b[1;33m(\u001b[0m\u001b[1;33m)\u001b[0m\u001b[1;33m\u001b[0m\u001b[0m\n\u001b[1;32m---> 13\u001b[1;33m         \u001b[0mtime\u001b[0m\u001b[1;33m.\u001b[0m\u001b[0msleep\u001b[0m\u001b[1;33m(\u001b[0m\u001b[1;36m1\u001b[0m\u001b[1;33m)\u001b[0m\u001b[1;33m\u001b[0m\u001b[0m\n\u001b[0m",
      "\u001b[1;31mKeyboardInterrupt\u001b[0m: "
     ]
    }
   ],
   "source": [
    "# Scheduler\n",
    "if __name__ == \"__main__\":\n",
    "    startTime = time.perf_counter()\n",
    "    data()       \n",
    "    endTime = time.perf_counter()\n",
    "    result = endTime - startTime\n",
    "    print (f\"Total time taken to plot graph is {result:0.4f} seconds!\")\n",
    "    unittest.main(argv=['first-arg-is-ignored'], exit=False)\n",
    "    schedule.every(1).minutes.do(data)\n",
    "\n",
    "    while True:\n",
    "        schedule.run_pending()\n",
    "        time.sleep(1)"
   ]
  },
  {
   "cell_type": "code",
   "execution_count": null,
   "metadata": {},
   "outputs": [],
   "source": []
  }
 ],
 "metadata": {
  "kernelspec": {
   "display_name": "Python 3",
   "language": "python",
   "name": "python3"
  },
  "language_info": {
   "codemirror_mode": {
    "name": "ipython",
    "version": 3
   },
   "file_extension": ".py",
   "mimetype": "text/x-python",
   "name": "python",
   "nbconvert_exporter": "python",
   "pygments_lexer": "ipython3",
   "version": "3.6.5"
  }
 },
 "nbformat": 4,
 "nbformat_minor": 2
}
