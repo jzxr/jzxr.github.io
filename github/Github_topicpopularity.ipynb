{
 "cells": [
  {
   "cell_type": "code",
   "execution_count": 1,
   "metadata": {},
   "outputs": [],
   "source": [
    "import numpy as np\n",
    "import pandas as pd\n",
    "from matplotlib import pyplot as plt\n",
    "import schedule\n",
    "import time\n",
    "\n",
    "path = r'C:\\Users\\yc\\Downloads\\Uni Application\\SIT\\TRI 2\\1009\\Project\\github' # location whr data is saved\n"
   ]
  },
  {
   "cell_type": "code",
   "execution_count": 2,
   "metadata": {},
   "outputs": [],
   "source": [
    "def data():\n",
    "    #sum of retweet in github-c_programming.csv\n",
    "    data1 = pd.read_csv('github-c_programming.csv')\n",
    "    ctotal = data1['Stars'].sum()\n",
    "    num1=ctotal\n",
    "\n",
    "\n",
    "    #sum of retweet in github-csharp.csv\n",
    "    data2 = pd.read_csv('github-csharp.csv')\n",
    "    csharptotal = data2['Stars'].sum()\n",
    "    num2=csharptotal\n",
    "\n",
    "\n",
    "    #sum of retweet in github-html.csv\n",
    "    data3 = pd.read_csv('github-html.csv')\n",
    "    htmltotal = data3['Stars'].sum()\n",
    "    num3=htmltotal\n",
    "\n",
    "\n",
    "    #sum of retweet in github-java.csv\n",
    "    data4 = pd.read_csv('github-java.csv')\n",
    "    javatotal = data4['Stars'].sum()\n",
    "    num4=javatotal\n",
    "\n",
    "\n",
    "    #sum of retweet in github-javascript.csv\n",
    "    data5 = pd.read_csv('github-javascript.csv')\n",
    "    jstotal = data5['Stars'].sum()\n",
    "    num5=jstotal\n",
    "\n",
    "\n",
    "    #sum of retweet in github-Python.csv\n",
    "    data6 = pd.read_csv('github-Python.csv')\n",
    "    pythontotal = data6['Stars'].sum()\n",
    "    num6=pythontotal\n",
    "\n",
    "\n",
    "    #sum of retweet in rprogramming.csv\n",
    "    data7 = pd.read_csv('github-rprogramming.csv')\n",
    "    rtotal = data7['Stars'].sum()\n",
    "    num7=rtotal\n",
    "\n",
    "\n",
    "    #Plot pie chart\n",
    "    my_data=[num1,num2,num3,num4,num5,num6,num7]\n",
    "    my_labels='cprogramming','c#','html','java','javascript','python','rprogramming'\n",
    "\n",
    "    plt.pie(my_data,labels=my_labels,autopct='%1.1f%%')\n",
    "    plt.title('Topic popularity on Github')\n",
    "    plt.axis('equal')\n",
    "    fig1= plt.gcf()\n",
    "    plt.show()\n",
    "    fig1.savefig('github_topicpopularity.png')\n",
    "\n"
   ]
  },
  {
   "cell_type": "code",
   "execution_count": 3,
   "metadata": {},
   "outputs": [
    {
     "data": {
      "image/png": "[encoded data removed]",
      "text/plain": [
       "<Figure size 432x288 with 1 Axes>"
      ]
     },
     "metadata": {},
     "output_type": "display_data"
    },
    {
     "ename": "KeyboardInterrupt",
     "evalue": "",
     "output_type": "error",
     "traceback": [
      "\u001b[1;31m---------------------------------------------------------------------------\u001b[0m",
      "\u001b[1;31mKeyboardInterrupt\u001b[0m                         Traceback (most recent call last)",
      "\u001b[1;32m<ipython-input-3-f516e956ea47>\u001b[0m in \u001b[0;36m<module>\u001b[1;34m()\u001b[0m\n\u001b[0;32m      5\u001b[0m     \u001b[1;32mwhile\u001b[0m \u001b[1;32mTrue\u001b[0m\u001b[1;33m:\u001b[0m\u001b[1;33m\u001b[0m\u001b[0m\n\u001b[0;32m      6\u001b[0m         \u001b[0mschedule\u001b[0m\u001b[1;33m.\u001b[0m\u001b[0mrun_pending\u001b[0m\u001b[1;33m(\u001b[0m\u001b[1;33m)\u001b[0m\u001b[1;33m\u001b[0m\u001b[0m\n\u001b[1;32m----> 7\u001b[1;33m         \u001b[0mtime\u001b[0m\u001b[1;33m.\u001b[0m\u001b[0msleep\u001b[0m\u001b[1;33m(\u001b[0m\u001b[1;36m1\u001b[0m\u001b[1;33m)\u001b[0m\u001b[1;33m\u001b[0m\u001b[0m\n\u001b[0m",
      "\u001b[1;31mKeyboardInterrupt\u001b[0m: "
     ]
    }
   ],
   "source": [
    "if __name__ == \"__main__\":\n",
    "    data()       \n",
    "    schedule.every(1).minutes.do(data)\n",
    "    \n",
    "    while True:\n",
    "        schedule.run_pending()\n",
    "        time.sleep(1)"
   ]
  },
  {
   "cell_type": "code",
   "execution_count": null,
   "metadata": {},
   "outputs": [],
   "source": []
  }
 ],
 "metadata": {
  "kernelspec": {
   "display_name": "Python 3",
   "language": "python",
   "name": "python3"
  },
  "language_info": {
   "codemirror_mode": {
    "name": "ipython",
    "version": 3
   },
   "file_extension": ".py",
   "mimetype": "text/x-python",
   "name": "python",
   "nbconvert_exporter": "python",
   "pygments_lexer": "ipython3",
   "version": "3.6.5"
  }
 },
 "nbformat": 4,
 "nbformat_minor": 2
}
