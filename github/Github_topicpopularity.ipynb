{
 "cells": [
  {
   "cell_type": "code",
   "execution_count": 4,
   "metadata": {},
   "outputs": [],
   "source": [
    "import numpy as np\n",
    "import pandas as pd\n",
    "from matplotlib import pyplot as plt\n",
    "import schedule\n",
    "import time\n",
    "\n",
    "path = r'/Users/jasminezheng/Desktop/SIT/CSC1009 - Object Oriented Programming/Assignment/OOP-github/techsights.github.io/github' # location whr data is saved\n"
   ]
  },
  {
   "cell_type": "code",
   "execution_count": 8,
   "metadata": {},
   "outputs": [],
   "source": [
    "def data():\n",
    "    #sum of retweet in github-c_programming.csv\n",
    "    data1 = pd.read_csv('github-c_programming.csv')\n",
    "    AItotal = data1['Repository Stars'].sum()\n",
    "    num1=AItotal\n",
    "\n",
    "\n",
    "    #sum of retweet in github-csharp.csv\n",
    "    data2 = pd.read_csv('github-csharp.csv')\n",
    "    DLtotal = data2['Repository Stars'].sum()\n",
    "    num2=DLtotal\n",
    "\n",
    "\n",
    "    #sum of retweet in 100DaysOfCode.csv\n",
    "    data3 = pd.read_csv('github-html.csv')\n",
    "    daystotal = data3['Repository Stars'].sum()\n",
    "    num3=daystotal\n",
    "\n",
    "\n",
    "    #sum of retweet in DataScience.csv\n",
    "    data4 = pd.read_csv('github-java.csv')\n",
    "    DStotal = data4['Repository Stars'].sum()\n",
    "    num4=DStotal\n",
    "\n",
    "\n",
    "    #sum of retweet in DEVCommunity.csv\n",
    "    data5 = pd.read_csv('github-javascript.csv')\n",
    "    Devtotal = data5['Repository Stars'].sum()\n",
    "    num5=Devtotal\n",
    "\n",
    "\n",
    "    #sum of retweet in MachineLearning.csv\n",
    "    data6 = pd.read_csv('github-Python.csv')\n",
    "    MLtotal = data6['Repository Stars'].sum()\n",
    "    num6=MLtotal\n",
    "\n",
    "\n",
    "    #sum of retweet in NeuralNetworks.csv\n",
    "    data7 = pd.read_csv('github-rprogramming.csv')\n",
    "    NNtotal = data7['Repository Stars'].sum()\n",
    "    num7=NNtotal\n",
    "\n",
    "\n",
    "    #Plot pie chart\n",
    "    my_data=[num1,num2,num3,num4,num5,num6,num7]\n",
    "    my_labels='cprogramming','c#','html','java','javascript','python','rprogramming'\n",
    "\n",
    "    plt.pie(my_data,labels=my_labels,autopct='%1.1f%%')\n",
    "    plt.title('Topic popularity on Github')\n",
    "    plt.axis('equal')\n",
    "    fig1= plt.gcf()\n",
    "    plt.show()\n",
    "    fig1.savefig('github_topicpopularity.png')\n",
    "\n"
   ]
  },
  {
   "cell_type": "code",
   "execution_count": null,
   "metadata": {},
   "outputs": [],
   "source": [
    "if __name__ == \"__main__\":\n",
    "    data()       \n",
    "    schedule.every(1).minutes.do(data)\n",
    "    \n",
    "    while True:\n",
    "        schedule.run_pending()\n",
    "        time.sleep(1)"
   ]
  },
  {
   "cell_type": "code",
   "execution_count": null,
   "metadata": {},
   "outputs": [],
   "source": []
  }
 ],
 "metadata": {
  "kernelspec": {
   "name": "python3",
   "display_name": "Python 3.9.0 64-bit",
   "metadata": {
    "interpreter": {
     "hash": "ac2eaa0ea0ebeafcc7822e65e46aa9d4f966f30b695406963e145ea4a91cd4fc"
    }
   }
  },
  "language_info": {
   "codemirror_mode": {
    "name": "ipython",
    "version": 3
   },
   "file_extension": ".py",
   "mimetype": "text/x-python",
   "name": "python",
   "nbconvert_exporter": "python",
   "pygments_lexer": "ipython3",
   "version": "3.9.0-final"
  }
 },
 "nbformat": 4,
 "nbformat_minor": 2
}