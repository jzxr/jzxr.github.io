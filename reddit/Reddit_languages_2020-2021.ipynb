{
 "cells": [
  {
   "cell_type": "code",
   "execution_count": 1,
   "metadata": {},
   "outputs": [],
   "source": [
    "# Import libraries\n",
    "import numpy as np\n",
    "import pandas as pd\n",
    "from matplotlib import pyplot as plt\n",
    "import schedule\n",
    "import time\n",
    "import unittest\n",
    "import os\n",
    "import glob\n",
    "\n",
    "# File location\n",
    "path = r'C:\\Users\\yc\\Downloads\\Uni Application\\SIT\\TRI 2\\1009\\Reddit' "
   ]
  },
  {
   "cell_type": "code",
   "execution_count": 2,
   "metadata": {},
   "outputs": [],
   "source": [
    "class testCases(unittest.TestCase):\n",
    "    #Test if crawl time is float value & if subtraction method is correct\n",
    "    def testCase1 (self):\n",
    "        test = endTime - startTime\n",
    "        \n",
    "        if test == float and test == result:\n",
    "            #assertTrue() to check true of test value\n",
    "            self.assertTrue(test)\n",
    "            \n",
    "    #Test if crawl time is lesser than 1 minutes\n",
    "    def testCase2(self): \n",
    "        value1 = result\n",
    "        value2 = 60\n",
    "        \n",
    "        #Error message in case if test case got failed \n",
    "        msg = \"Crawl time is more than 1 minutes\"\n",
    "        \n",
    "        #assert function() to check if values1 is less than value2 \n",
    "        self.assertLess(value1, value2, msg) \n",
    "        \n",
    "     #Test if csv file is empty\n",
    "    def testcase3(self):\n",
    "        df1 = pd.read_csv('reddit-c_programming.csv') #Read csv\n",
    "        df1.empty  #check if empty\n",
    "        if df1.empty == True:\n",
    "            print(\"The c programming csv file is empty\")\n",
    "        else:\n",
    "            print(\"The c programming csv file has data\")\n",
    "            \n",
    "        df2 = pd.read_csv('reddit-csharp.csv')  #Read csv\n",
    "        df2.empty  #check if empty\n",
    "        if df2.empty == True:\n",
    "            print(\"The csharp csv file is empty\")  \n",
    "        else:\n",
    "            print(\"The csharp csv file has data\")  \n",
    "            \n",
    "        df3 = pd.read_csv('reddit-html.csv')  #Read csv\n",
    "        df3.empty  #check if empty\n",
    "        if df3.empty == True:\n",
    "            print(\"The html csv file is empty\")\n",
    "        else:\n",
    "            print(\"The html csv file has data\")\n",
    "            \n",
    "        df4 = pd.read_csv('reddit-java.csv')  #Read csv\n",
    "        df4.empty  #check if empty\n",
    "        if df4.empty == True:\n",
    "            print(\"The java csv file is empty\")\n",
    "        else:\n",
    "            print(\"The java csv file has data\")\n",
    "            \n",
    "        df5 = pd.read_csv('reddit-javascript.csv')  #Read csv\n",
    "        df5.empty  #check if empty\n",
    "        if df5.empty == True:\n",
    "            print(\"The javascript csv file is empty\")\n",
    "        else:\n",
    "            print(\"The javascript csv file has data\")\n",
    "            \n",
    "        df6 = pd.read_csv('reddit-Python.csv')  #Read csv\n",
    "        df6.empty  #check if empty\n",
    "        if df6.empty == True:\n",
    "            print(\"The Python csv file is empty\")\n",
    "        else:\n",
    "            print(\"The Python csv file has data\")\n",
    "            \n",
    "        df7 = pd.read_csv('reddit-rprogramming.csv')  #Read csv\n",
    "        df7.empty  #check if empty\n",
    "        if df7.empty == True:\n",
    "            print(\"The rprogramming csv file is empty\")\n",
    "        else:\n",
    "            print(\"The rprogramming csv file has data\")\n",
    "            \n",
    "    #Test if graph is created and exported as png\n",
    "    def testcase4(self):\n",
    "        picture = os.path.isfile('reddit_prglanguage.png')\n",
    "        if picture == True:\n",
    "            print(\"The graph is created\")\n",
    "        else:\n",
    "            print(\"The graph is not created\")\n",
    "            \n",
    "    #Test the number of csv found in folder \n",
    "    def testCase5(self):\n",
    "        expectedfiles=7\n",
    "        # dir is your directory path \n",
    "        list2=os.listdir(path)\n",
    "        \n",
    "        number_files2 = len(glob.glob('./*.csv'))\n",
    "        self.assertEqual(number_files2,expectedfiles,'Number of csv found is not equal to 7 for stackoverflow')"
   ]
  },
  {
   "cell_type": "code",
   "execution_count": 3,
   "metadata": {},
   "outputs": [],
   "source": [
    "def data():    \n",
    "    #number of rows in c_programming csv\n",
    "    data1 = pd.read_csv('reddit-c_programming.csv')\n",
    "    data_year=data1.loc[data1['Year'] >= 2020]\n",
    "    index1=data_year.index\n",
    "    num1 = len(index1) \n",
    "\n",
    "    #number of rows in csharp csv\n",
    "    data2 = pd.read_csv('reddit-csharp.csv')\n",
    "    data_year2=data2.loc[data2['Year'] >= 2020]\n",
    "    index2=data_year2.index\n",
    "    num2 = len(index2) \n",
    "\n",
    "    #number of rows in html csv\n",
    "    data3 = pd.read_csv('reddit-html.csv')\n",
    "    data_year3=data3.loc[data3['Year'] >= 2020]\n",
    "    index3=data_year3.index\n",
    "    num3 = len(index3)\n",
    "\n",
    "    #number of rows in java csv\n",
    "    data4 = pd.read_csv('reddit-java.csv')\n",
    "    data_year4=data4.loc[data4['Year'] >= 2020]\n",
    "    index4=data_year4.index\n",
    "    num4 = len(index4)\n",
    "\n",
    "    #number of rows in javascript csv\n",
    "    data5 = pd.read_csv('reddit-javascript.csv')\n",
    "    data_year5=data5.loc[data5['Year'] >= 2020]\n",
    "    index5=data_year5.index\n",
    "    num5 = len(index5)\n",
    "\n",
    "    #number of rows in Python csv\n",
    "    data6 = pd.read_csv('reddit-Python.csv')\n",
    "    data_year6=data6.loc[data6['Year'] >= 2020]\n",
    "    index6=data_year6.index\n",
    "    num6 = len(index6)\n",
    "\n",
    "    #number of rows in rprogramming csv\n",
    "    data7 = pd.read_csv('reddit-rprogramming.csv')\n",
    "    data_year7=data7.loc[data7['Year'] >= 2020]\n",
    "    index7=data_year7.index\n",
    "    num7 = len(index7)\n",
    "\n",
    "    graph(num1,num2,num3,num4,num5,num6,num7)\n",
    "    "
   ]
  },
  {
   "cell_type": "code",
   "execution_count": 4,
   "metadata": {},
   "outputs": [],
   "source": [
    "#Plot pie chart with object oriented interface\n",
    "def graph(num1,num2,num3,num4,num5,num6,num7):\n",
    "    my_data=[num1,num2,num3,num4,num5,num6,num7]\n",
    "    my_labels='c programming','csharp','html','java','javascript','Python','rprogramming'\n",
    "\n",
    "    explode = (0, 0, 0, 0, 0, 0.1, 0.1)  # only \"explode\" python and r programming\n",
    "    \n",
    "    fig1, ax1 = plt.subplots()\n",
    "    ax1.set_title('Programming languages on Reddit 2020 - 2021')\n",
    "    ax1.pie(my_data, explode=explode, labels=my_labels, autopct='%1.1f%%',shadow=True)\n",
    "    ax1.axis('equal')  # Equal aspect ratio ensures that pie is drawn as a circle.\n",
    "    \n",
    "    plt.show()\n",
    "    fig1.savefig('reddit_prglanguage.png')"
   ]
  },
  {
   "cell_type": "code",
   "execution_count": 5,
   "metadata": {},
   "outputs": [
    {
     "data": {
      "image/png": "[encoded data removed]",
      "text/plain": [
       "<Figure size 432x288 with 1 Axes>"
      ]
     },
     "metadata": {},
     "output_type": "display_data"
    },
    {
     "name": "stderr",
     "output_type": "stream",
     "text": [
      "....."
     ]
    },
    {
     "name": "stdout",
     "output_type": "stream",
     "text": [
      "Total time taken to plot graph is 0.4181 seconds!\n",
      "The c programming csv file has data\n",
      "The csharp csv file has data\n",
      "The html csv file has data\n",
      "The java csv file has data\n",
      "The javascript csv file has data\n",
      "The Python csv file has data\n",
      "The rprogramming csv file has data\n",
      "The graph is created\n"
     ]
    },
    {
     "name": "stderr",
     "output_type": "stream",
     "text": [
      "\n",
      "----------------------------------------------------------------------\n",
      "Ran 5 tests in 0.051s\n",
      "\n",
      "OK\n"
     ]
    },
    {
     "ename": "KeyboardInterrupt",
     "evalue": "",
     "output_type": "error",
     "traceback": [
      "\u001b[1;31m---------------------------------------------------------------------------\u001b[0m",
      "\u001b[1;31mKeyboardInterrupt\u001b[0m                         Traceback (most recent call last)",
      "\u001b[1;32m<ipython-input-5-43dee9b1368a>\u001b[0m in \u001b[0;36m<module>\u001b[1;34m()\u001b[0m\n\u001b[0;32m     11\u001b[0m     \u001b[1;32mwhile\u001b[0m \u001b[1;32mTrue\u001b[0m\u001b[1;33m:\u001b[0m\u001b[1;33m\u001b[0m\u001b[0m\n\u001b[0;32m     12\u001b[0m         \u001b[0mschedule\u001b[0m\u001b[1;33m.\u001b[0m\u001b[0mrun_pending\u001b[0m\u001b[1;33m(\u001b[0m\u001b[1;33m)\u001b[0m\u001b[1;33m\u001b[0m\u001b[0m\n\u001b[1;32m---> 13\u001b[1;33m         \u001b[0mtime\u001b[0m\u001b[1;33m.\u001b[0m\u001b[0msleep\u001b[0m\u001b[1;33m(\u001b[0m\u001b[1;36m1\u001b[0m\u001b[1;33m)\u001b[0m\u001b[1;33m\u001b[0m\u001b[0m\n\u001b[0m",
      "\u001b[1;31mKeyboardInterrupt\u001b[0m: "
     ]
    }
   ],
   "source": [
    "# Scheduler\n",
    "if __name__ == \"__main__\":\n",
    "    startTime = time.perf_counter()\n",
    "    data()       \n",
    "    endTime = time.perf_counter()\n",
    "    result = endTime - startTime\n",
    "    print (f\"Total time taken to plot graph is {result:0.4f} seconds!\")\n",
    "    unittest.main(argv=['first-arg-is-ignored'], exit=False)\n",
    "    schedule.every(1).minutes.do(data)\n",
    "\n",
    "    while True:\n",
    "        schedule.run_pending()\n",
    "        time.sleep(1)"
   ]
  },
  {
   "cell_type": "code",
   "execution_count": null,
   "metadata": {},
   "outputs": [],
   "source": []
  }
 ],
 "metadata": {
  "kernelspec": {
   "display_name": "Python 3",
   "language": "python",
   "name": "python3"
  },
  "language_info": {
   "codemirror_mode": {
    "name": "ipython",
    "version": 3
   },
   "file_extension": ".py",
   "mimetype": "text/x-python",
   "name": "python",
   "nbconvert_exporter": "python",
   "pygments_lexer": "ipython3",
   "version": "3.6.5"
  }
 },
 "nbformat": 4,
 "nbformat_minor": 2
}
